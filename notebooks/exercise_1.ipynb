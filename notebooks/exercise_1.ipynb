{
  "nbformat": 4,
  "nbformat_minor": 0,
  "metadata": {
    "colab": {
      "name": "exercise_1.ipynb",
      "private_outputs": true,
      "provenance": [],
      "authorship_tag": "ABX9TyOoBa9UPbAVdw9K1k3wug8T",
      "include_colab_link": true
    },
    "kernelspec": {
      "name": "python3",
      "display_name": "Python 3"
    }
  },
  "cells": [
    {
      "cell_type": "markdown",
      "metadata": {
        "id": "view-in-github",
        "colab_type": "text"
      },
      "source": [
        "<a href=\"https://colab.research.google.com/github/d-tomas/data-mining/blob/main/notebooks/exercise_1.ipynb\" target=\"_parent\"><img src=\"https://colab.research.google.com/assets/colab-badge.svg\" alt=\"Open In Colab\"/></a>"
      ]
    },
    {
      "cell_type": "markdown",
      "metadata": {
        "id": "GYswp4cAuuBV"
      },
      "source": [
        "# Ejercicio: un poco de Pandas"
      ]
    },
    {
      "cell_type": "code",
      "metadata": {
        "id": "ZtKcUvuluiV5"
      },
      "source": [
        "# Pasos previos\n",
        "\n",
        "import pandas as pd\n",
        "\n",
        "data = pd.read_csv('https://raw.githubusercontent.com/d-tomas/data-mining/main/datasets/metal_bands.csv')"
      ],
      "execution_count": null,
      "outputs": []
    },
    {
      "cell_type": "markdown",
      "metadata": {
        "id": "saDsmFWQvfEL"
      },
      "source": [
        "**1.** Muestra por pantalla todos los datos de las 10 primeras bandas"
      ]
    },
    {
      "cell_type": "code",
      "metadata": {
        "id": "rllcflk74BDz"
      },
      "source": [
        ""
      ],
      "execution_count": null,
      "outputs": []
    },
    {
      "cell_type": "markdown",
      "metadata": {
        "id": "RcimoyJqyxtL"
      },
      "source": [
        "**2.** Muestra por pantalla el nombre de las 5 últimas bandas"
      ]
    },
    {
      "cell_type": "code",
      "metadata": {
        "id": "53etPABNyxDC"
      },
      "source": [
        ""
      ],
      "execution_count": null,
      "outputs": []
    },
    {
      "cell_type": "markdown",
      "metadata": {
        "id": "c8FMNULAzHYt"
      },
      "source": [
        "**3.** Cambia el nombre de la primera columna por 'ranking'"
      ]
    },
    {
      "cell_type": "code",
      "metadata": {
        "id": "4UT6kLNvzGu6"
      },
      "source": [
        ""
      ],
      "execution_count": null,
      "outputs": []
    },
    {
      "cell_type": "markdown",
      "metadata": {
        "id": "KMiqMgfHzeLR"
      },
      "source": [
        "**4.** Muestra el nombre, país de origen y el número de fans de las bandas que se formaron en 1980"
      ]
    },
    {
      "cell_type": "code",
      "metadata": {
        "id": "cmPiSe51zdwt"
      },
      "source": [
        ""
      ],
      "execution_count": null,
      "outputs": []
    },
    {
      "cell_type": "markdown",
      "metadata": {
        "id": "PrYLus1y1nY0"
      },
      "source": [
        "**5.** Muestra las 20 bandas españolas más antiguas"
      ]
    },
    {
      "cell_type": "code",
      "metadata": {
        "id": "6BgEA_BW03zh"
      },
      "source": [
        ""
      ],
      "execution_count": null,
      "outputs": []
    }
  ]
}