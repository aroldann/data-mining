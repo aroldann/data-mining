{
  "nbformat": 4,
  "nbformat_minor": 0,
  "metadata": {
    "colab": {
      "name": "exercise_1.ipynb",
      "private_outputs": true,
      "provenance": [],
      "authorship_tag": "ABX9TyOoBa9UPbAVdw9K1k3wug8T",
      "include_colab_link": true
    },
    "kernelspec": {
      "name": "python3",
      "display_name": "Python 3.7.9 64-bit",
      "metadata": {
        "interpreter": {
          "hash": "a093ed77d0aefaf3f5f785688eb38a74a4b129f49a359451b93b4e6fb5ca171c"
        }
      }
    }
  },
  "cells": [
    {
      "cell_type": "markdown",
      "metadata": {
        "id": "view-in-github",
        "colab_type": "text"
      },
      "source": [
        "<a href=\"https://colab.research.google.com/github/d-tomas/data-mining/blob/main/notebooks/exercise_1.ipynb\" target=\"_parent\"><img src=\"https://colab.research.google.com/assets/colab-badge.svg\" alt=\"Open In Colab\"/></a>"
      ]
    },
    {
      "cell_type": "markdown",
      "metadata": {
        "id": "GYswp4cAuuBV"
      },
      "source": [
        "# Ejercicio: un poco de Pandas"
      ]
    },
    {
      "cell_type": "code",
      "metadata": {
        "id": "ZtKcUvuluiV5"
      },
      "source": [
        "# Pasos previos\n",
        "\n",
        "import pandas as pd\n",
        "\n",
        "data = pd.read_csv('https://raw.githubusercontent.com/d-tomas/data-mining/main/datasets/metal_bands.csv')"
      ],
      "execution_count": 1,
      "outputs": []
    },
    {
      "cell_type": "markdown",
      "metadata": {
        "id": "saDsmFWQvfEL"
      },
      "source": [
        "**1.** Muestra por pantalla todos los datos de las 10 primeras bandas"
      ]
    },
    {
      "cell_type": "code",
      "metadata": {
        "id": "rllcflk74BDz"
      },
      "source": [
        "data.head(10)"
      ],
      "execution_count": 2,
      "outputs": [
        {
          "output_type": "execute_result",
          "data": {
            "text/plain": [
              "   Unnamed: 0      band_name  fans formed          origin split  \\\n",
              "0           0    Iron Maiden  4195   1975  United Kingdom     -   \n",
              "1           1          Opeth  4147   1990          Sweden  1990   \n",
              "2           2      Metallica  3712   1981             USA     -   \n",
              "3           3       Megadeth  3105   1983             USA  1983   \n",
              "4           4    Amon Amarth  3054   1988          Sweden     -   \n",
              "5           5         Slayer  2955   1981             USA  1981   \n",
              "6           6          Death  2690   1983             USA  2001   \n",
              "7           7  Dream Theater  2329   1985             USA  1985   \n",
              "8           8  Black Sabbath  2307   1968  United Kingdom     -   \n",
              "9           9      Nightwish  2183   1996         Finland  1996   \n",
              "\n",
              "                                              style  \n",
              "0                   New wave of british heavy,Heavy  \n",
              "1  Extreme progressive,Progressive rock,Progressive  \n",
              "2                             Heavy,Bay area thrash  \n",
              "3                            Thrash,Heavy,Hard rock  \n",
              "4                                     Melodic death  \n",
              "5                                            Thrash  \n",
              "6        Progressive death,Death,Progressive thrash  \n",
              "7                                       Progressive  \n",
              "8                              Doom,Heavy,Hard rock  \n",
              "9                  Symphonic power,Gothic,Symphonic  "
            ],
            "text/html": "<div>\n<style scoped>\n    .dataframe tbody tr th:only-of-type {\n        vertical-align: middle;\n    }\n\n    .dataframe tbody tr th {\n        vertical-align: top;\n    }\n\n    .dataframe thead th {\n        text-align: right;\n    }\n</style>\n<table border=\"1\" class=\"dataframe\">\n  <thead>\n    <tr style=\"text-align: right;\">\n      <th></th>\n      <th>Unnamed: 0</th>\n      <th>band_name</th>\n      <th>fans</th>\n      <th>formed</th>\n      <th>origin</th>\n      <th>split</th>\n      <th>style</th>\n    </tr>\n  </thead>\n  <tbody>\n    <tr>\n      <th>0</th>\n      <td>0</td>\n      <td>Iron Maiden</td>\n      <td>4195</td>\n      <td>1975</td>\n      <td>United Kingdom</td>\n      <td>-</td>\n      <td>New wave of british heavy,Heavy</td>\n    </tr>\n    <tr>\n      <th>1</th>\n      <td>1</td>\n      <td>Opeth</td>\n      <td>4147</td>\n      <td>1990</td>\n      <td>Sweden</td>\n      <td>1990</td>\n      <td>Extreme progressive,Progressive rock,Progressive</td>\n    </tr>\n    <tr>\n      <th>2</th>\n      <td>2</td>\n      <td>Metallica</td>\n      <td>3712</td>\n      <td>1981</td>\n      <td>USA</td>\n      <td>-</td>\n      <td>Heavy,Bay area thrash</td>\n    </tr>\n    <tr>\n      <th>3</th>\n      <td>3</td>\n      <td>Megadeth</td>\n      <td>3105</td>\n      <td>1983</td>\n      <td>USA</td>\n      <td>1983</td>\n      <td>Thrash,Heavy,Hard rock</td>\n    </tr>\n    <tr>\n      <th>4</th>\n      <td>4</td>\n      <td>Amon Amarth</td>\n      <td>3054</td>\n      <td>1988</td>\n      <td>Sweden</td>\n      <td>-</td>\n      <td>Melodic death</td>\n    </tr>\n    <tr>\n      <th>5</th>\n      <td>5</td>\n      <td>Slayer</td>\n      <td>2955</td>\n      <td>1981</td>\n      <td>USA</td>\n      <td>1981</td>\n      <td>Thrash</td>\n    </tr>\n    <tr>\n      <th>6</th>\n      <td>6</td>\n      <td>Death</td>\n      <td>2690</td>\n      <td>1983</td>\n      <td>USA</td>\n      <td>2001</td>\n      <td>Progressive death,Death,Progressive thrash</td>\n    </tr>\n    <tr>\n      <th>7</th>\n      <td>7</td>\n      <td>Dream Theater</td>\n      <td>2329</td>\n      <td>1985</td>\n      <td>USA</td>\n      <td>1985</td>\n      <td>Progressive</td>\n    </tr>\n    <tr>\n      <th>8</th>\n      <td>8</td>\n      <td>Black Sabbath</td>\n      <td>2307</td>\n      <td>1968</td>\n      <td>United Kingdom</td>\n      <td>-</td>\n      <td>Doom,Heavy,Hard rock</td>\n    </tr>\n    <tr>\n      <th>9</th>\n      <td>9</td>\n      <td>Nightwish</td>\n      <td>2183</td>\n      <td>1996</td>\n      <td>Finland</td>\n      <td>1996</td>\n      <td>Symphonic power,Gothic,Symphonic</td>\n    </tr>\n  </tbody>\n</table>\n</div>"
          },
          "metadata": {},
          "execution_count": 2
        }
      ]
    },
    {
      "cell_type": "markdown",
      "metadata": {
        "id": "RcimoyJqyxtL"
      },
      "source": [
        "**2.** Muestra por pantalla el nombre de las 5 últimas bandas"
      ]
    },
    {
      "cell_type": "code",
      "metadata": {
        "id": "53etPABNyxDC"
      },
      "source": [
        "data[\"band_name\"].tail(5)"
      ],
      "execution_count": 7,
      "outputs": [
        {
          "output_type": "execute_result",
          "data": {
            "text/plain": [
              "4995              Atara\n",
              "4996         Avicularia\n",
              "4997              Awake\n",
              "4998             Axatak\n",
              "4999    Axis Of Despair\n",
              "Name: band_name, dtype: object"
            ]
          },
          "metadata": {},
          "execution_count": 7
        }
      ]
    },
    {
      "cell_type": "markdown",
      "metadata": {
        "id": "c8FMNULAzHYt"
      },
      "source": [
        "**3.** Cambia el nombre de la primera columna por 'ranking'"
      ]
    },
    {
      "cell_type": "code",
      "metadata": {
        "id": "4UT6kLNvzGu6"
      },
      "source": [
        "data.rename(columns={\"Unnamed: 0\": \"ranking\"}).head()"
      ],
      "execution_count": 8,
      "outputs": [
        {
          "output_type": "execute_result",
          "data": {
            "text/plain": [
              "   ranking    band_name  fans formed          origin split  \\\n",
              "0        0  Iron Maiden  4195   1975  United Kingdom     -   \n",
              "1        1        Opeth  4147   1990          Sweden  1990   \n",
              "2        2    Metallica  3712   1981             USA     -   \n",
              "3        3     Megadeth  3105   1983             USA  1983   \n",
              "4        4  Amon Amarth  3054   1988          Sweden     -   \n",
              "\n",
              "                                              style  \n",
              "0                   New wave of british heavy,Heavy  \n",
              "1  Extreme progressive,Progressive rock,Progressive  \n",
              "2                             Heavy,Bay area thrash  \n",
              "3                            Thrash,Heavy,Hard rock  \n",
              "4                                     Melodic death  "
            ],
            "text/html": "<div>\n<style scoped>\n    .dataframe tbody tr th:only-of-type {\n        vertical-align: middle;\n    }\n\n    .dataframe tbody tr th {\n        vertical-align: top;\n    }\n\n    .dataframe thead th {\n        text-align: right;\n    }\n</style>\n<table border=\"1\" class=\"dataframe\">\n  <thead>\n    <tr style=\"text-align: right;\">\n      <th></th>\n      <th>ranking</th>\n      <th>band_name</th>\n      <th>fans</th>\n      <th>formed</th>\n      <th>origin</th>\n      <th>split</th>\n      <th>style</th>\n    </tr>\n  </thead>\n  <tbody>\n    <tr>\n      <th>0</th>\n      <td>0</td>\n      <td>Iron Maiden</td>\n      <td>4195</td>\n      <td>1975</td>\n      <td>United Kingdom</td>\n      <td>-</td>\n      <td>New wave of british heavy,Heavy</td>\n    </tr>\n    <tr>\n      <th>1</th>\n      <td>1</td>\n      <td>Opeth</td>\n      <td>4147</td>\n      <td>1990</td>\n      <td>Sweden</td>\n      <td>1990</td>\n      <td>Extreme progressive,Progressive rock,Progressive</td>\n    </tr>\n    <tr>\n      <th>2</th>\n      <td>2</td>\n      <td>Metallica</td>\n      <td>3712</td>\n      <td>1981</td>\n      <td>USA</td>\n      <td>-</td>\n      <td>Heavy,Bay area thrash</td>\n    </tr>\n    <tr>\n      <th>3</th>\n      <td>3</td>\n      <td>Megadeth</td>\n      <td>3105</td>\n      <td>1983</td>\n      <td>USA</td>\n      <td>1983</td>\n      <td>Thrash,Heavy,Hard rock</td>\n    </tr>\n    <tr>\n      <th>4</th>\n      <td>4</td>\n      <td>Amon Amarth</td>\n      <td>3054</td>\n      <td>1988</td>\n      <td>Sweden</td>\n      <td>-</td>\n      <td>Melodic death</td>\n    </tr>\n  </tbody>\n</table>\n</div>"
          },
          "metadata": {},
          "execution_count": 8
        }
      ]
    },
    {
      "cell_type": "markdown",
      "metadata": {
        "id": "KMiqMgfHzeLR"
      },
      "source": [
        "**4.** Muestra el nombre, país de origen y el número de fans de las bandas que se formaron en 1980"
      ]
    },
    {
      "cell_type": "code",
      "metadata": {
        "id": "cmPiSe51zdwt"
      },
      "source": [
        "data.loc[data[\"formed\"] == \"1980\", [\"band_name\", \"origin\", \"fans\"]]"
      ],
      "execution_count": 9,
      "outputs": [
        {
          "output_type": "execute_result",
          "data": {
            "text/plain": [
              "                   band_name           origin  fans\n",
              "120                   Exodus              USA   937\n",
              "132                  Manowar              USA   863\n",
              "141                    Sodom          Germany   783\n",
              "142                 Overkill              USA   770\n",
              "277             Grave Digger          Germany   328\n",
              "323             Metal Church              USA   268\n",
              "1026              Holy Moses          Germany    58\n",
              "1152                    Tank   United Kingdom    49\n",
              "1185  Arjen Anthony Lucassen  The Netherlands    46\n",
              "1198                 Warlord              USA    46\n",
              "1275          Vicious Rumors              USA    42\n",
              "1494                  Sinner          Germany    32\n",
              "1568                King's X              USA    29\n",
              "1659               Bulldozer            Italy    26\n",
              "1697              Blitzkrieg   United Kingdom    25\n",
              "1732              Barón Rojo            Spain    24\n",
              "1852                   Turbo           Poland    22\n",
              "1938                Pokolgép          Hungary    20\n",
              "2570              Iron Angel          Germany    11\n",
              "2796               Moby Dick          Hungary     9\n",
              "3074                  Malice              USA     7\n",
              "3518                Vanadium            Italy     5\n",
              "3854                 Cyclone          Belgium     3\n",
              "4303             Legend (JE)           Jersey     2\n",
              "4417         Spartan Warrior   United Kingdom     2"
            ],
            "text/html": "<div>\n<style scoped>\n    .dataframe tbody tr th:only-of-type {\n        vertical-align: middle;\n    }\n\n    .dataframe tbody tr th {\n        vertical-align: top;\n    }\n\n    .dataframe thead th {\n        text-align: right;\n    }\n</style>\n<table border=\"1\" class=\"dataframe\">\n  <thead>\n    <tr style=\"text-align: right;\">\n      <th></th>\n      <th>band_name</th>\n      <th>origin</th>\n      <th>fans</th>\n    </tr>\n  </thead>\n  <tbody>\n    <tr>\n      <th>120</th>\n      <td>Exodus</td>\n      <td>USA</td>\n      <td>937</td>\n    </tr>\n    <tr>\n      <th>132</th>\n      <td>Manowar</td>\n      <td>USA</td>\n      <td>863</td>\n    </tr>\n    <tr>\n      <th>141</th>\n      <td>Sodom</td>\n      <td>Germany</td>\n      <td>783</td>\n    </tr>\n    <tr>\n      <th>142</th>\n      <td>Overkill</td>\n      <td>USA</td>\n      <td>770</td>\n    </tr>\n    <tr>\n      <th>277</th>\n      <td>Grave Digger</td>\n      <td>Germany</td>\n      <td>328</td>\n    </tr>\n    <tr>\n      <th>323</th>\n      <td>Metal Church</td>\n      <td>USA</td>\n      <td>268</td>\n    </tr>\n    <tr>\n      <th>1026</th>\n      <td>Holy Moses</td>\n      <td>Germany</td>\n      <td>58</td>\n    </tr>\n    <tr>\n      <th>1152</th>\n      <td>Tank</td>\n      <td>United Kingdom</td>\n      <td>49</td>\n    </tr>\n    <tr>\n      <th>1185</th>\n      <td>Arjen Anthony Lucassen</td>\n      <td>The Netherlands</td>\n      <td>46</td>\n    </tr>\n    <tr>\n      <th>1198</th>\n      <td>Warlord</td>\n      <td>USA</td>\n      <td>46</td>\n    </tr>\n    <tr>\n      <th>1275</th>\n      <td>Vicious Rumors</td>\n      <td>USA</td>\n      <td>42</td>\n    </tr>\n    <tr>\n      <th>1494</th>\n      <td>Sinner</td>\n      <td>Germany</td>\n      <td>32</td>\n    </tr>\n    <tr>\n      <th>1568</th>\n      <td>King's X</td>\n      <td>USA</td>\n      <td>29</td>\n    </tr>\n    <tr>\n      <th>1659</th>\n      <td>Bulldozer</td>\n      <td>Italy</td>\n      <td>26</td>\n    </tr>\n    <tr>\n      <th>1697</th>\n      <td>Blitzkrieg</td>\n      <td>United Kingdom</td>\n      <td>25</td>\n    </tr>\n    <tr>\n      <th>1732</th>\n      <td>Barón Rojo</td>\n      <td>Spain</td>\n      <td>24</td>\n    </tr>\n    <tr>\n      <th>1852</th>\n      <td>Turbo</td>\n      <td>Poland</td>\n      <td>22</td>\n    </tr>\n    <tr>\n      <th>1938</th>\n      <td>Pokolgép</td>\n      <td>Hungary</td>\n      <td>20</td>\n    </tr>\n    <tr>\n      <th>2570</th>\n      <td>Iron Angel</td>\n      <td>Germany</td>\n      <td>11</td>\n    </tr>\n    <tr>\n      <th>2796</th>\n      <td>Moby Dick</td>\n      <td>Hungary</td>\n      <td>9</td>\n    </tr>\n    <tr>\n      <th>3074</th>\n      <td>Malice</td>\n      <td>USA</td>\n      <td>7</td>\n    </tr>\n    <tr>\n      <th>3518</th>\n      <td>Vanadium</td>\n      <td>Italy</td>\n      <td>5</td>\n    </tr>\n    <tr>\n      <th>3854</th>\n      <td>Cyclone</td>\n      <td>Belgium</td>\n      <td>3</td>\n    </tr>\n    <tr>\n      <th>4303</th>\n      <td>Legend (JE)</td>\n      <td>Jersey</td>\n      <td>2</td>\n    </tr>\n    <tr>\n      <th>4417</th>\n      <td>Spartan Warrior</td>\n      <td>United Kingdom</td>\n      <td>2</td>\n    </tr>\n  </tbody>\n</table>\n</div>"
          },
          "metadata": {},
          "execution_count": 9
        }
      ]
    },
    {
      "cell_type": "markdown",
      "metadata": {
        "id": "PrYLus1y1nY0"
      },
      "source": [
        "**5.** Muestra las 20 bandas españolas más antiguas"
      ]
    },
    {
      "cell_type": "code",
      "metadata": {
        "id": "6BgEA_BW03zh"
      },
      "source": [
        "data.sort_values(by=[\"formed\"]).head(20)[\"band_name\"]"
      ],
      "execution_count": 25,
      "outputs": [
        {
          "output_type": "execute_result",
          "data": {
            "text/plain": [
              "4948             Weapon UK\n",
              "4599            Doomocracy\n",
              "4821              Rustless\n",
              "4442      Throes Of Sanity\n",
              "256           Alice Cooper\n",
              "197              Scorpions\n",
              "1669                   Elf\n",
              "1314                Budgie\n",
              "609       Blue Öyster Cult\n",
              "102           Led Zeppelin\n",
              "167                 Accept\n",
              "8            Black Sabbath\n",
              "2403    Sir Lord Baltimore\n",
              "58           Black Sabbath\n",
              "145                   Rush\n",
              "151            Deep Purple\n",
              "517             Uriah Heep\n",
              "61            Judas Priest\n",
              "488             Thin Lizzy\n",
              "285           King Crimson\n",
              "Name: band_name, dtype: object"
            ]
          },
          "metadata": {},
          "execution_count": 25
        }
      ]
    },
    {
      "cell_type": "code",
      "execution_count": null,
      "metadata": {},
      "outputs": [],
      "source": []
    }
  ]
}